{
 "cells": [
  {
   "cell_type": "markdown",
   "metadata": {},
   "source": [
    "# Bioinformatics Problems from Rosalind Stronghold\n",
    "http://rosalind.info/problems/list-view/"
   ]
  },
  {
   "cell_type": "markdown",
   "metadata": {},
   "source": [
    "## Counting DNA Nucleotides\n",
    "\n",
    "A string is simply an ordered collection of symbols selected from some alphabet and formed into a word; the length of a string is the number of symbols that it contains.\n",
    "\n",
    "An example of a length 21 DNA string (whose alphabet contains the symbols 'A', 'C', 'G', and 'T') is \"ATGCTTCAGAAAGGTCTTACG.\"\n",
    "s\n",
    "Given: A DNA string s of length at most 1000 nt.\n",
    "\n",
    "Return: Four integers (separated by spaces) counting the respective number of times that the symbols 'A', 'C', 'G', and 'T' occur in s."
   ]
  },
  {
   "cell_type": "code",
   "execution_count": 31,
   "metadata": {},
   "outputs": [
    {
     "name": "stdout",
     "output_type": "stream",
     "text": [
      "226 221 234 251\n"
     ]
    }
   ],
   "source": [
    "from collections import Counter\n",
    "\n",
    "contents = open(\"/Downloads/rosalind_dna.txt\", \"r\").readlines()\n",
    "tout=Counter(contents[0].rstrip())\n",
    "print(' '.join([str(tout[b]) for  b in 'ACGT']))"
   ]
  },
  {
   "cell_type": "markdown",
   "metadata": {},
   "source": [
    "## Transcribing DNA into RNA \n",
    "\n",
    "An RNA string is a string formed from the alphabet containing 'A', 'C', 'G', and 'U'.\n",
    "\n",
    "Given a DNA string t corresponding to a coding strand, its transcribed RNA string u is formed by replacing all occurrences of 'T' in t with 'U' in u.\n",
    "\n",
    "Given: A DNA string t having length at most 1000 nt.\n",
    "\n",
    "Return: The transcribed RNA string of t.\n",
    "\n",
    "Sample Dataset"
   ]
  },
  {
   "cell_type": "code",
   "execution_count": 34,
   "metadata": {},
   "outputs": [
    {
     "name": "stdout",
     "output_type": "stream",
     "text": [
      "UGGCGAUUUAACGAACUGCUCGACUCCCUGGCCACCCGUUCCUCGGUCAGGAGCGACUCAAAUGCCAGUGACUGGCGCCCCGUACGUCCCCGCGCUUUAGCGUCAACGUAGACACAGUCACGCGAUCUACCCCCCACGAGGCCAACACAGAGGAACAAUUCGUAGCCGCUGUCUACUCUCCCGAGAGAGCCCGAAACGUCGAUCUAAAUACCCGAUGGAGAUCACCUGGAUCAACCUACACGGACUAUGAUCAACAAGAUUGCGGCUGUCCGGCUUACAGGUAGCAUACUAUUCCGAUCCGGUCCAGAGGGAGCGGAUGUCACCAGGAUAGUAGGAGCCGUUCAAACAGGGCAUCUACAGCCACGUAGCCUUCGUUAAGCUCAGGACUGGCGCUCCAGUCAUUCGCAAAACCUUGAAGGUAUCACACCAACAUUGACGCUGGUUGGCCAUAAAGAACUUAUUCAACCUGGCAUCCAACCCUAGUGGAUCACCGGAUGUUACCUGUCGCGCGUACAAGCUUUUCAGCCCGUUGUGCCCUGUUCAGAGAGUCCGCCAUGGCUACUGGGCCAUGACAAACACACGCUCAUGCAAACGCCUUGGGACGUGGUCUGGUUCAAUGAAUAGAAGGUCAAGAAUCCGGGUCUCUUAUUUGAACUAUGGGCAUGGCAUUAUGUGAAAUCGGUUUGUCUAGACACCUACCGGUAGAGUAUCGUGAGACGAGAAUUUACACUAUGGACCGGUCCUAAUACAGGCAAACGGGAUCCUGUGCACCAAGCUACAUGCGUAGUCACUGCCAUCAGAAACGGGAGGUUAUGCCCACGCAAUUUACAAUGCCAGGUGUCGAGCGAGAGGUCCAGUUGACCGUGCGAGCUCACGCCCCCGUGUGUUGGGAAUCUCUUAAUCCCGUGUGGCUACAGGGUCAGAUCACCUCACCAUGCCCCGCCAGCCCAGUCAUCCCAGCAU\n"
     ]
    }
   ],
   "source": [
    "\n",
    "contents = open(\"/Downloads/rosalind_rna.txt\", \"r\").readlines()\n",
    "tout=contents[0].rstrip()\n",
    "print(tout.replace('T', 'U'))"
   ]
  },
  {
   "cell_type": "markdown",
   "metadata": {},
   "source": [
    "## Complementing a Strand of DNA\n",
    "\n",
    "Problem\n",
    "In DNA strings, symbols 'A' and 'T' are complements of each other, as are 'C' and 'G'.\n",
    "\n",
    "The reverse complement of a DNA string s is the string sc formed by reversing the symbols of s, then taking the complement of each symbol (e.g., the reverse complement of \"GTCA\" is \"TGAC\").\n",
    "\n",
    "Given: A DNA string s of length at most 1000 bp.\n",
    "\n",
    "Return: The reverse complement sc of s.\n",
    "\n",
    "Sample Dataset\n",
    "AAAACCCGGT\n",
    "Sample Output\n",
    "ACCGGGTTTT"
   ]
  },
  {
   "cell_type": "code",
   "execution_count": 56,
   "metadata": {},
   "outputs": [
    {
     "name": "stdout",
     "output_type": "stream",
     "text": [
      "AGACGACAGCAGGCAGATGCTATTCCACTAACGGGTGCCCTACAGTCGGATAACTCTGTGACATTTGATGAGTAACGGGATGAGTATTCAGAGCGCAAAGCCCGTCAATCGTTACAGGCGCCGGTTTCACATCGCCTTTAGGAGCCAGCATATAATGGGGGTGCCCACTGTCATCTAAATCTTAGGATCTTCACCGTACACACCCACGTTTCAGTATAGGGATAATATTCAGTAACCTTGCATAAAGCTTCCGCGGGCTCCTACAGCCTGAGAAAACGGACATAGCCGGCACGGCGTGGTACCATCTAGACACCTGTGAAACAACGTTCCGATTAGACGAATAGTCCGTCCCCAGTAACTGCATGGATATAAATTGGGTTAGAGTATAATCCGGTGAAGGAAATTATTCGTGACAACTAGCCCGTTTACTAGCTGACGACTATCCAGAGGGTTGACTAAGTATTTCCTTTCACAGTCTGGACCCTCATGATGCGCCGGAATCATTCCGTTAGCTCCGGAACTTTGCCGAGGTAGCAAGAACTCTAGTTACTCCCGTAGTAGAACCTGGAGTTGAGTCAGAGGTATAAACTTCTGGGTGGTTTACGGTGGCATGTCTGTCAACAGGCCGTCGGCACTCGTTTTGCAGTAAAGTCAACCCAAGCCCATGCACTCTATATTATCGCTCGGATAACTGCGGAATATTACCGGAGTAATCTTCGTTCATTATGACCCTTGATAAGACCTTCCCTAACCCCTCAAGGGATCATTATCCAGAGCGTAAGTTAAGTGGTACTCTTCGATGG\n"
     ]
    }
   ],
   "source": [
    "\n",
    "tdat='AAAACCCGGT'\n",
    "tdat = open(\"/Downloads/rosalind_revc.txt\", \"r\").readlines()[0].rstrip()\n",
    "#tstring.translate({\"A\":\"T\",\"C\":\"G\", \"T\":\"A\",\"G\":\"C\" })\n",
    "#assert tstring.translate(tstring.maketrans(\"ATCG\", \"TAGC\"))[::-1]=='ACCGGGTTTT'\n",
    "print(tdat.translate(tdat.maketrans(\"ATCG\", \"TAGC\"))[::-1])"
   ]
  },
  {
   "cell_type": "markdown",
   "metadata": {},
   "source": [
    "## Rabbits and Recurrence Relations solved by 20588\n",
    "Feb. 22, 2013, 3:50 a.m. by Rosalind TeamTopics: Combinatorics, Dynamic Programming\n",
    "←→\n",
    "Wascally Wabbitsclick to expand\n",
    "Problem\n",
    "A sequence is an ordered collection of objects (usually numbers), which are allowed to repeat. Sequences can be finite or infinite. Two examples are the finite sequence (π,−2‾√,0,π) and the infinite sequence of odd numbers (1,3,5,7,9,…). We use the notation an to represent the n-th term of a sequence.\n",
    "\n",
    "A recurrence relation is a way of defining the terms of a sequence with respect to the values of previous terms. In the case of Fibonacci's rabbits from the introduction, any given month will contain the rabbits that were alive the previous month, plus any new offspring. A key observation is that the number of offspring in any month is equal to the number of rabbits that were alive two months prior. As a result, if Fn represents the number of rabbit pairs alive after the n-th month, then we obtain the Fibonacci sequence having terms Fn that are defined by the recurrence relation Fn=Fn−1+Fn−2 (with F1=F2=1 to initiate the sequence). Although the sequence bears Fibonacci's name, it was known to Indian mathematicians over two millennia ago.\n",
    "\n",
    "When finding the n-th term of a sequence defined by a recurrence relation, we can simply use the recurrence relation to generate terms for progressively larger values of n. This problem introduces us to the computational technique of dynamic programming, which successively builds up solutions by using the answers to smaller cases.\n",
    "\n",
    "Given: Positive integers n≤40 and k≤5.\n",
    "\n",
    "Return: The total number of rabbit pairs that will be present after n months, if we begin with 1 pair and in each generation, every pair of reproduction-age rabbits produces a litter of k rabbit pairs (instead of only 1 pair).\n",
    "\n",
    "Sample Dataset\n",
    "5 3\n",
    "Sample Output\n",
    "19"
   ]
  },
  {
   "cell_type": "code",
   "execution_count": 88,
   "metadata": {},
   "outputs": [],
   "source": [
    "import copy\n",
    "\n",
    "def fib_rabs(n, k):\n",
    "\n",
    "    if n <2 :\n",
    "        return(1)\n",
    "    elif n==3:\n",
    "        return(1+k)\n",
    "    else:\n",
    "\n",
    "        track=[1, 1, 1+k]\n",
    "        for i in range(3 , n+1):\n",
    "            tmp=copy.deepcopy(track[1:2])\n",
    "            newval=track[2]+k*track[0]\n",
    "\n",
    "            track[2]=newval\n",
    "            track[0:1]=tmp\n",
    "            \n",
    "            print(track)\n",
    "    \n",
    "    \n",
    "    return(track[2])\n",
    "\n",
    "\n"
   ]
  },
  {
   "cell_type": "code",
   "execution_count": 89,
   "metadata": {},
   "outputs": [
    {
     "name": "stdout",
     "output_type": "stream",
     "text": [
      "[1, 1, 7]\n",
      "[1, 1, 10]\n",
      "[1, 1, 13]\n",
      "[1, 1, 16]\n",
      "[1, 1, 19]\n"
     ]
    },
    {
     "data": {
      "text/plain": [
       "19"
      ]
     },
     "execution_count": 89,
     "metadata": {},
     "output_type": "execute_result"
    }
   ],
   "source": [
    "fib_rabs(7, 3)"
   ]
  },
  {
   "cell_type": "code",
   "execution_count": 62,
   "metadata": {},
   "outputs": [
    {
     "name": "stdout",
     "output_type": "stream",
     "text": [
      "   0  1\n",
      "0  5  3\n"
     ]
    }
   ],
   "source": [
    "import pandas as pd\n",
    "tdat=pd.read_csv('sample.txt', delimiter=' ', header=None)\n",
    "#tdat = open(\"sample.txt\", \"r\").readlines()[0].rstrip().split(' ')\n",
    "print(tdat)\n",
    "n=tdat[0][0]\n",
    "\n",
    "#tdat='AAAACCCGGT'\n",
    "#tdat = open(\"/Downloads/rosalind_revc.txt\", \"r\").readlines()[0].rstrip()\n",
    "#tstring.translate({\"A\":\"T\",\"C\":\"G\", \"T\":\"A\",\"G\":\"C\" })\n",
    "#assert tstring.translate(tstring.maketrans(\"ATCG\", \"TAGC\"))[::-1]=='ACCGGGTTTT'\n",
    "#print(tdat.translate(tdat.maketrans(\"ATCG\", \"TAGC\"))[::-1])"
   ]
  },
  {
   "cell_type": "code",
   "execution_count": null,
   "metadata": {},
   "outputs": [],
   "source": []
  }
 ],
 "metadata": {
  "kernelspec": {
   "display_name": "Python 3",
   "language": "python",
   "name": "python3"
  },
  "language_info": {
   "codemirror_mode": {
    "name": "ipython",
    "version": 3
   },
   "file_extension": ".py",
   "mimetype": "text/x-python",
   "name": "python",
   "nbconvert_exporter": "python",
   "pygments_lexer": "ipython3",
   "version": "3.8.2"
  }
 },
 "nbformat": 4,
 "nbformat_minor": 4
}
